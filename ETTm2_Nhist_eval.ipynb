{
 "cells": [
  {
   "cell_type": "code",
   "execution_count": 1,
   "id": "5247f597-ee01-47c2-aca4-1dfabdf80d4e",
   "metadata": {},
   "outputs": [
    {
     "name": "stdout",
     "output_type": "stream",
     "text": [
      "results\\multivariate\\ETTm2_96\\NHITS\\hyperopt_eval_train.p\n",
      "Best hyperparameters for this Horizon:\n",
      "{'activation': 'ReLU', 'batch_normalization': False, 'batch_size': 1, 'complete_windows': True, 'dropout_prob_exogenous': 0, 'dropout_prob_theta': 0, 'early_stop_patience': 10, 'eval_freq': 50, 'frequency': 'H', 'idx_to_sample_freq': 1, 'initialization': 'lecun_normal', 'interpolation_mode': 'linear', 'l1_theta': 0, 'learning_rate': 0.001, 'loss_hypar': 0.5, 'loss_train': 'MAE', 'loss_valid': 'MAE', 'lr_decay': 0.5, 'max_epochs': None, 'max_steps': 1000, 'mode': 'simple', 'model': 'nhits', 'n_blocks': (1, 1, 1), 'n_freq_downsample': (60, 8, 1), 'n_hidden': 512, 'n_layers': (2, 2, 2, 2, 2, 2, 2, 2, 2), 'n_lr_decays': 3, 'n_pool_kernel_size': (4, 4, 4), 'n_s_hidden': 0, 'n_time_in': 480, 'n_time_out': 96, 'n_windows': 256, 'n_x_hidden': 0, 'normalizer_x': None, 'normalizer_y': None, 'pooling_mode': 'max', 'random_seed': 5.0, 'seasonality': 24, 'shared_weights': False, 'stack_types': ('identity', 'identity', 'identity'), 'val_idx_to_sample_freq': 1, 'weight_decay': 0, 'n_x': 0, 'n_s': 0, 'n_theta_hidden': [[512, 512], [512, 512], [512, 512]]}\n",
      "Horizon 96\n",
      "MSE: 0.17637616395950317\n",
      "MAE: 0.2541126310825348\n",
      "results\\multivariate\\ETTm2_192\\NHITS\\hyperopt_eval_train.p\n",
      "Best hyperparameters for this Horizon:\n",
      "{'activation': 'ReLU', 'batch_normalization': False, 'batch_size': 1, 'complete_windows': True, 'dropout_prob_exogenous': 0, 'dropout_prob_theta': 0, 'early_stop_patience': 10, 'eval_freq': 50, 'frequency': 'H', 'idx_to_sample_freq': 1, 'initialization': 'lecun_normal', 'interpolation_mode': 'linear', 'l1_theta': 0, 'learning_rate': 0.001, 'loss_hypar': 0.5, 'loss_train': 'MAE', 'loss_valid': 'MAE', 'lr_decay': 0.5, 'max_epochs': None, 'max_steps': 1000, 'mode': 'simple', 'model': 'nhits', 'n_blocks': (1, 1, 1), 'n_freq_downsample': (24, 12, 1), 'n_hidden': 512, 'n_layers': (2, 2, 2, 2, 2, 2, 2, 2, 2), 'n_lr_decays': 3, 'n_pool_kernel_size': (4, 4, 4), 'n_s_hidden': 0, 'n_time_in': 960, 'n_time_out': 192, 'n_windows': 256, 'n_x_hidden': 0, 'normalizer_x': None, 'normalizer_y': None, 'pooling_mode': 'max', 'random_seed': 3.0, 'seasonality': 24, 'shared_weights': False, 'stack_types': ('identity', 'identity', 'identity'), 'val_idx_to_sample_freq': 1, 'weight_decay': 0, 'n_x': 0, 'n_s': 0, 'n_theta_hidden': [[512, 512], [512, 512], [512, 512]]}\n",
      "Horizon 192\n",
      "MSE: 0.23858654499053955\n",
      "MAE: 0.305715411901474\n",
      "results\\multivariate\\ETTm2_336\\NHITS\\hyperopt_eval_train.p\n",
      "Best hyperparameters for this Horizon:\n",
      "{'activation': 'ReLU', 'batch_normalization': False, 'batch_size': 1, 'complete_windows': True, 'dropout_prob_exogenous': 0, 'dropout_prob_theta': 0, 'early_stop_patience': 10, 'eval_freq': 50, 'frequency': 'H', 'idx_to_sample_freq': 1, 'initialization': 'lecun_normal', 'interpolation_mode': 'linear', 'l1_theta': 0, 'learning_rate': 0.001, 'loss_hypar': 0.5, 'loss_train': 'MAE', 'loss_valid': 'MAE', 'lr_decay': 0.5, 'max_epochs': None, 'max_steps': 1000, 'mode': 'simple', 'model': 'nhits', 'n_blocks': (1, 1, 1), 'n_freq_downsample': (60, 8, 1), 'n_hidden': 512, 'n_layers': (2, 2, 2, 2, 2, 2, 2, 2, 2), 'n_lr_decays': 3, 'n_pool_kernel_size': (4, 4, 4), 'n_s_hidden': 0, 'n_time_in': 1680, 'n_time_out': 336, 'n_windows': 256, 'n_x_hidden': 0, 'normalizer_x': None, 'normalizer_y': None, 'pooling_mode': 'max', 'random_seed': 4.0, 'seasonality': 24, 'shared_weights': False, 'stack_types': ('identity', 'identity', 'identity'), 'val_idx_to_sample_freq': 1, 'weight_decay': 0, 'n_x': 0, 'n_s': 0, 'n_theta_hidden': [[512, 512], [512, 512], [512, 512]]}\n",
      "Horizon 336\n",
      "MSE: 0.3015799820423126\n",
      "MAE: 0.34770798683166504\n",
      "results\\multivariate\\ETTm2_720\\NHITS\\hyperopt_eval_train.p\n",
      "Best hyperparameters for this Horizon:\n",
      "{'activation': 'ReLU', 'batch_normalization': False, 'batch_size': 1, 'complete_windows': True, 'dropout_prob_exogenous': 0, 'dropout_prob_theta': 0, 'early_stop_patience': 10, 'eval_freq': 50, 'frequency': 'H', 'idx_to_sample_freq': 1, 'initialization': 'lecun_normal', 'interpolation_mode': 'linear', 'l1_theta': 0, 'learning_rate': 0.001, 'loss_hypar': 0.5, 'loss_train': 'MAE', 'loss_valid': 'MAE', 'lr_decay': 0.5, 'max_epochs': None, 'max_steps': 1000, 'mode': 'simple', 'model': 'nhits', 'n_blocks': (1, 1, 1), 'n_freq_downsample': (180, 60, 1), 'n_hidden': 512, 'n_layers': (2, 2, 2, 2, 2, 2, 2, 2, 2), 'n_lr_decays': 3, 'n_pool_kernel_size': (1, 1, 1), 'n_s_hidden': 0, 'n_time_in': 3600, 'n_time_out': 720, 'n_windows': 256, 'n_x_hidden': 0, 'normalizer_x': None, 'normalizer_y': None, 'pooling_mode': 'max', 'random_seed': 1.0, 'seasonality': 24, 'shared_weights': False, 'stack_types': ('identity', 'identity', 'identity'), 'val_idx_to_sample_freq': 1, 'weight_decay': 0, 'n_x': 0, 'n_s': 0, 'n_theta_hidden': [[512, 512], [512, 512], [512, 512]]}\n",
      "Horizon 720\n",
      "MSE: 0.42072299122810364\n",
      "MAE: 0.43819671869277954\n"
     ]
    }
   ],
   "source": [
    "# Chạy module evaluation trực tiếp trong notebook\n",
    "!python -m evaluation --dataset ETTm2 --horizon -1 --model NHITS --experiment run_1"
   ]
  },
  {
   "cell_type": "code",
   "execution_count": null,
   "id": "fa7b10b5-4ab6-4451-8a35-5b38d80acdc8",
   "metadata": {},
   "outputs": [],
   "source": []
  }
 ],
 "metadata": {
  "kernelspec": {
   "display_name": "Python 3 (ipykernel)",
   "language": "python",
   "name": "python3"
  },
  "language_info": {
   "codemirror_mode": {
    "name": "ipython",
    "version": 3
   },
   "file_extension": ".py",
   "mimetype": "text/x-python",
   "name": "python",
   "nbconvert_exporter": "python",
   "pygments_lexer": "ipython3",
   "version": "3.12.3"
  }
 },
 "nbformat": 4,
 "nbformat_minor": 5
}
