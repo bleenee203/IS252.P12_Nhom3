{
 "cells": [
  {
   "cell_type": "code",
   "execution_count": 2,
   "id": "190792fd-4d1f-4f91-b702-16488bd9a5a2",
   "metadata": {},
   "outputs": [
    {
     "name": "stdout",
     "output_type": "stream",
     "text": [
      "Defaulting to user installation because normal site-packages is not writeable\n",
      "Collecting hyperopt\n",
      "  Downloading hyperopt-0.2.7-py2.py3-none-any.whl.metadata (1.7 kB)\n",
      "Requirement already satisfied: numpy in c:\\program files\\anaconda3\\lib\\site-packages (from hyperopt) (1.26.4)\n",
      "Requirement already satisfied: scipy in c:\\program files\\anaconda3\\lib\\site-packages (from hyperopt) (1.13.1)\n",
      "Requirement already satisfied: six in c:\\program files\\anaconda3\\lib\\site-packages (from hyperopt) (1.16.0)\n",
      "Requirement already satisfied: networkx>=2.2 in c:\\program files\\anaconda3\\lib\\site-packages (from hyperopt) (3.2.1)\n",
      "Collecting future (from hyperopt)\n",
      "  Downloading future-1.0.0-py3-none-any.whl.metadata (4.0 kB)\n",
      "Requirement already satisfied: tqdm in c:\\program files\\anaconda3\\lib\\site-packages (from hyperopt) (4.66.4)\n",
      "Requirement already satisfied: cloudpickle in c:\\program files\\anaconda3\\lib\\site-packages (from hyperopt) (2.2.1)\n",
      "Collecting py4j (from hyperopt)\n",
      "  Downloading py4j-0.10.9.7-py2.py3-none-any.whl.metadata (1.5 kB)\n",
      "Requirement already satisfied: colorama in c:\\program files\\anaconda3\\lib\\site-packages (from tqdm->hyperopt) (0.4.6)\n",
      "Downloading hyperopt-0.2.7-py2.py3-none-any.whl (1.6 MB)\n",
      "   ---------------------------------------- 0.0/1.6 MB ? eta -:--:--\n",
      "    --------------------------------------- 0.0/1.6 MB 435.7 kB/s eta 0:00:04\n",
      "   - -------------------------------------- 0.1/1.6 MB 656.4 kB/s eta 0:00:03\n",
      "   --- ------------------------------------ 0.1/1.6 MB 983.0 kB/s eta 0:00:02\n",
      "   ------ --------------------------------- 0.3/1.6 MB 1.5 MB/s eta 0:00:01\n",
      "   -------- ------------------------------- 0.3/1.6 MB 1.5 MB/s eta 0:00:01\n",
      "   ------------- -------------------------- 0.5/1.6 MB 1.9 MB/s eta 0:00:01\n",
      "   ----------------- ---------------------- 0.7/1.6 MB 2.2 MB/s eta 0:00:01\n",
      "   ---------------------- ----------------- 0.9/1.6 MB 2.5 MB/s eta 0:00:01\n",
      "   -------------------------- ------------- 1.1/1.6 MB 2.6 MB/s eta 0:00:01\n",
      "   ------------------------------- -------- 1.2/1.6 MB 2.7 MB/s eta 0:00:01\n",
      "   ----------------------------------- ---- 1.4/1.6 MB 2.8 MB/s eta 0:00:01\n",
      "   ---------------------------------------  1.6/1.6 MB 2.9 MB/s eta 0:00:01\n",
      "   ---------------------------------------  1.6/1.6 MB 2.9 MB/s eta 0:00:01\n",
      "   ---------------------------------------- 1.6/1.6 MB 2.6 MB/s eta 0:00:00\n",
      "Downloading future-1.0.0-py3-none-any.whl (491 kB)\n",
      "   ---------------------------------------- 0.0/491.3 kB ? eta -:--:--\n",
      "   ---------- ----------------------------- 133.1/491.3 kB 2.6 MB/s eta 0:00:01\n",
      "   --------------------------- ------------ 337.9/491.3 kB 3.5 MB/s eta 0:00:01\n",
      "   ----------------------------------- ---- 430.1/491.3 kB 3.0 MB/s eta 0:00:01\n",
      "   ---------------------------------------- 491.3/491.3 kB 2.8 MB/s eta 0:00:00\n",
      "Downloading py4j-0.10.9.7-py2.py3-none-any.whl (200 kB)\n",
      "   ---------------------------------------- 0.0/200.5 kB ? eta -:--:--\n",
      "   -------------------------------------- - 194.6/200.5 kB 5.9 MB/s eta 0:00:01\n",
      "   ---------------------------------------- 200.5/200.5 kB 4.0 MB/s eta 0:00:00\n",
      "Installing collected packages: py4j, future, hyperopt\n",
      "Successfully installed future-1.0.0 hyperopt-0.2.7 py4j-0.10.9.7\n",
      "Note: you may need to restart the kernel to use updated packages.\n"
     ]
    },
    {
     "name": "stderr",
     "output_type": "stream",
     "text": [
      "  WARNING: The scripts futurize.exe and pasteurize.exe are installed in 'C:\\Users\\bichl\\AppData\\Roaming\\Python\\Python312\\Scripts' which is not on PATH.\n",
      "  Consider adding this directory to PATH or, if you prefer to suppress this warning, use --no-warn-script-location.\n",
      "  WARNING: The script hyperopt-mongo-worker.exe is installed in 'C:\\Users\\bichl\\AppData\\Roaming\\Python\\Python312\\Scripts' which is not on PATH.\n",
      "  Consider adding this directory to PATH or, if you prefer to suppress this warning, use --no-warn-script-location.\n"
     ]
    }
   ],
   "source": [
    "pip install hyperopt"
   ]
  },
  {
   "cell_type": "code",
   "execution_count": 8,
   "id": "8efe590a-b6aa-4263-a856-b867870868dc",
   "metadata": {},
   "outputs": [
    {
     "name": "stdout",
     "output_type": "stream",
     "text": [
      "Defaulting to user installation because normal site-packages is not writeableNote: you may need to restart the kernel to use updated packages.\n"
     ]
    },
    {
     "name": "stderr",
     "output_type": "stream",
     "text": [
      "ERROR: pip's dependency resolver does not currently take into account all the packages that are installed. This behaviour is the source of the following dependency conflicts.\n",
      "scikit-learn 1.4.2 requires joblib>=1.2.0, but you have joblib 1.1.1 which is incompatible.\n",
      "ydata-profiling 0.0.dev0 requires visions[type_image_path]<0.7.7,>=0.7.5, but you have visions 0.7.4 which is incompatible.\n",
      "ydata-profiling 0.0.dev0 requires wordcloud>=1.9.1, but you have wordcloud 0.0.0 which is incompatible.\n"
     ]
    },
    {
     "name": "stdout",
     "output_type": "stream",
     "text": [
      "\n",
      "Collecting joblib~=1.1.0\n",
      "  Using cached joblib-1.1.1-py2.py3-none-any.whl.metadata (5.2 kB)\n",
      "Using cached joblib-1.1.1-py2.py3-none-any.whl (309 kB)\n",
      "Installing collected packages: joblib\n",
      "  Attempting uninstall: joblib\n",
      "    Found existing installation: joblib 1.4.2\n",
      "    Uninstalling joblib-1.4.2:\n",
      "      Successfully uninstalled joblib-1.4.2\n",
      "Successfully installed joblib-1.1.1\n"
     ]
    }
   ],
   "source": [
    "pip install joblib~=1.1.0"
   ]
  },
  {
   "cell_type": "code",
   "execution_count": 11,
   "id": "e87509a3-d018-4176-ab81-6bfd8137d8fe",
   "metadata": {},
   "outputs": [
    {
     "name": "stdout",
     "output_type": "stream",
     "text": [
      "Defaulting to user installation because normal site-packages is not writeable\n",
      "Requirement already satisfied: statsforecast in c:\\users\\bichl\\appdata\\roaming\\python\\python312\\site-packages (1.7.8)\n",
      "Requirement already satisfied: cloudpickle in c:\\program files\\anaconda3\\lib\\site-packages (from statsforecast) (2.2.1)\n",
      "Requirement already satisfied: coreforecast>=0.0.12 in c:\\users\\bichl\\appdata\\roaming\\python\\python312\\site-packages (from statsforecast) (0.0.15)\n",
      "Requirement already satisfied: numba>=0.55.0 in c:\\program files\\anaconda3\\lib\\site-packages (from statsforecast) (0.60.0)\n",
      "Requirement already satisfied: numpy>=1.21.6 in c:\\program files\\anaconda3\\lib\\site-packages (from statsforecast) (1.26.4)\n",
      "Requirement already satisfied: pandas>=1.3.5 in c:\\program files\\anaconda3\\lib\\site-packages (from statsforecast) (2.2.2)\n",
      "Requirement already satisfied: scipy>=1.7.3 in c:\\program files\\anaconda3\\lib\\site-packages (from statsforecast) (1.13.1)\n",
      "Requirement already satisfied: statsmodels>=0.13.2 in c:\\program files\\anaconda3\\lib\\site-packages (from statsforecast) (0.14.2)\n",
      "Requirement already satisfied: tqdm in c:\\program files\\anaconda3\\lib\\site-packages (from statsforecast) (4.66.4)\n",
      "Requirement already satisfied: fugue>=0.8.1 in c:\\users\\bichl\\appdata\\roaming\\python\\python312\\site-packages (from statsforecast) (0.9.1)\n",
      "Requirement already satisfied: utilsforecast>=0.1.4 in c:\\users\\bichl\\appdata\\roaming\\python\\python312\\site-packages (from statsforecast) (0.2.8)\n",
      "Requirement already satisfied: threadpoolctl>=3 in c:\\users\\bichl\\appdata\\roaming\\python\\python312\\site-packages (from statsforecast) (3.5.0)\n",
      "Requirement already satisfied: triad>=0.9.7 in c:\\users\\bichl\\appdata\\roaming\\python\\python312\\site-packages (from fugue>=0.8.1->statsforecast) (0.9.8)\n",
      "Requirement already satisfied: adagio>=0.2.4 in c:\\users\\bichl\\appdata\\roaming\\python\\python312\\site-packages (from fugue>=0.8.1->statsforecast) (0.2.6)\n",
      "Requirement already satisfied: llvmlite<0.44,>=0.43.0dev0 in c:\\program files\\anaconda3\\lib\\site-packages (from numba>=0.55.0->statsforecast) (0.43.0)\n",
      "Requirement already satisfied: python-dateutil>=2.8.2 in c:\\program files\\anaconda3\\lib\\site-packages (from pandas>=1.3.5->statsforecast) (2.9.0.post0)\n",
      "Requirement already satisfied: pytz>=2020.1 in c:\\program files\\anaconda3\\lib\\site-packages (from pandas>=1.3.5->statsforecast) (2024.1)\n",
      "Requirement already satisfied: tzdata>=2022.7 in c:\\program files\\anaconda3\\lib\\site-packages (from pandas>=1.3.5->statsforecast) (2023.3)\n",
      "Requirement already satisfied: patsy>=0.5.6 in c:\\program files\\anaconda3\\lib\\site-packages (from statsmodels>=0.13.2->statsforecast) (0.5.6)\n",
      "Requirement already satisfied: packaging>=21.3 in c:\\program files\\anaconda3\\lib\\site-packages (from statsmodels>=0.13.2->statsforecast) (23.2)\n",
      "Requirement already satisfied: colorama in c:\\program files\\anaconda3\\lib\\site-packages (from tqdm->statsforecast) (0.4.6)\n",
      "Requirement already satisfied: six in c:\\program files\\anaconda3\\lib\\site-packages (from patsy>=0.5.6->statsmodels>=0.13.2->statsforecast) (1.16.0)\n",
      "Requirement already satisfied: pyarrow>=6.0.1 in c:\\program files\\anaconda3\\lib\\site-packages (from triad>=0.9.7->fugue>=0.8.1->statsforecast) (14.0.2)\n",
      "Requirement already satisfied: fsspec>=2022.5.0 in c:\\program files\\anaconda3\\lib\\site-packages (from triad>=0.9.7->fugue>=0.8.1->statsforecast) (2024.3.1)\n",
      "Requirement already satisfied: fs in c:\\users\\bichl\\appdata\\roaming\\python\\python312\\site-packages (from triad>=0.9.7->fugue>=0.8.1->statsforecast) (2.4.16)\n",
      "Requirement already satisfied: appdirs~=1.4.3 in c:\\program files\\anaconda3\\lib\\site-packages (from fs->triad>=0.9.7->fugue>=0.8.1->statsforecast) (1.4.4)\n",
      "Requirement already satisfied: setuptools in c:\\program files\\anaconda3\\lib\\site-packages (from fs->triad>=0.9.7->fugue>=0.8.1->statsforecast) (69.5.1)\n",
      "Note: you may need to restart the kernel to use updated packages.\n"
     ]
    }
   ],
   "source": [
    "pip install statsforecast"
   ]
  },
  {
   "cell_type": "code",
   "execution_count": 4,
   "id": "ce086f46-ec36-4b49-9a47-0251abd80720",
   "metadata": {},
   "outputs": [
    {
     "name": "stdout",
     "output_type": "stream",
     "text": [
      "Defaulting to user installation because normal site-packages is not writeable\n",
      "Collecting pytorch-lightning\n",
      "  Downloading pytorch_lightning-2.4.0-py3-none-any.whl.metadata (21 kB)\n",
      "Requirement already satisfied: torch>=2.1.0 in c:\\users\\bichl\\appdata\\roaming\\python\\python312\\site-packages (from pytorch-lightning) (2.4.1)\n",
      "Requirement already satisfied: tqdm>=4.57.0 in c:\\program files\\anaconda3\\lib\\site-packages (from pytorch-lightning) (4.66.4)\n",
      "Requirement already satisfied: PyYAML>=5.4 in c:\\program files\\anaconda3\\lib\\site-packages (from pytorch-lightning) (6.0.1)\n",
      "Requirement already satisfied: fsspec>=2022.5.0 in c:\\program files\\anaconda3\\lib\\site-packages (from fsspec[http]>=2022.5.0->pytorch-lightning) (2024.3.1)\n",
      "Collecting torchmetrics>=0.7.0 (from pytorch-lightning)\n",
      "  Downloading torchmetrics-1.6.0-py3-none-any.whl.metadata (20 kB)\n",
      "Requirement already satisfied: packaging>=20.0 in c:\\program files\\anaconda3\\lib\\site-packages (from pytorch-lightning) (23.2)\n",
      "Requirement already satisfied: typing-extensions>=4.4.0 in c:\\program files\\anaconda3\\lib\\site-packages (from pytorch-lightning) (4.11.0)\n",
      "Collecting lightning-utilities>=0.10.0 (from pytorch-lightning)\n",
      "  Downloading lightning_utilities-0.11.8-py3-none-any.whl.metadata (5.2 kB)\n",
      "Requirement already satisfied: aiohttp!=4.0.0a0,!=4.0.0a1 in c:\\program files\\anaconda3\\lib\\site-packages (from fsspec[http]>=2022.5.0->pytorch-lightning) (3.9.5)\n",
      "Requirement already satisfied: setuptools in c:\\program files\\anaconda3\\lib\\site-packages (from lightning-utilities>=0.10.0->pytorch-lightning) (69.5.1)\n",
      "Requirement already satisfied: filelock in c:\\program files\\anaconda3\\lib\\site-packages (from torch>=2.1.0->pytorch-lightning) (3.13.1)\n",
      "Requirement already satisfied: sympy in c:\\program files\\anaconda3\\lib\\site-packages (from torch>=2.1.0->pytorch-lightning) (1.12)\n",
      "Requirement already satisfied: networkx in c:\\program files\\anaconda3\\lib\\site-packages (from torch>=2.1.0->pytorch-lightning) (3.2.1)\n",
      "Requirement already satisfied: jinja2 in c:\\program files\\anaconda3\\lib\\site-packages (from torch>=2.1.0->pytorch-lightning) (3.1.4)\n",
      "Requirement already satisfied: numpy>1.20.0 in c:\\program files\\anaconda3\\lib\\site-packages (from torchmetrics>=0.7.0->pytorch-lightning) (1.26.4)\n",
      "Requirement already satisfied: colorama in c:\\program files\\anaconda3\\lib\\site-packages (from tqdm>=4.57.0->pytorch-lightning) (0.4.6)\n",
      "Requirement already satisfied: aiosignal>=1.1.2 in c:\\program files\\anaconda3\\lib\\site-packages (from aiohttp!=4.0.0a0,!=4.0.0a1->fsspec[http]>=2022.5.0->pytorch-lightning) (1.2.0)\n",
      "Requirement already satisfied: attrs>=17.3.0 in c:\\program files\\anaconda3\\lib\\site-packages (from aiohttp!=4.0.0a0,!=4.0.0a1->fsspec[http]>=2022.5.0->pytorch-lightning) (23.1.0)\n",
      "Requirement already satisfied: frozenlist>=1.1.1 in c:\\program files\\anaconda3\\lib\\site-packages (from aiohttp!=4.0.0a0,!=4.0.0a1->fsspec[http]>=2022.5.0->pytorch-lightning) (1.4.0)\n",
      "Requirement already satisfied: multidict<7.0,>=4.5 in c:\\program files\\anaconda3\\lib\\site-packages (from aiohttp!=4.0.0a0,!=4.0.0a1->fsspec[http]>=2022.5.0->pytorch-lightning) (6.0.4)\n",
      "Requirement already satisfied: yarl<2.0,>=1.0 in c:\\program files\\anaconda3\\lib\\site-packages (from aiohttp!=4.0.0a0,!=4.0.0a1->fsspec[http]>=2022.5.0->pytorch-lightning) (1.9.3)\n",
      "Requirement already satisfied: MarkupSafe>=2.0 in c:\\program files\\anaconda3\\lib\\site-packages (from jinja2->torch>=2.1.0->pytorch-lightning) (2.1.3)\n",
      "Requirement already satisfied: mpmath>=0.19 in c:\\program files\\anaconda3\\lib\\site-packages (from sympy->torch>=2.1.0->pytorch-lightning) (1.3.0)\n",
      "Requirement already satisfied: idna>=2.0 in c:\\program files\\anaconda3\\lib\\site-packages (from yarl<2.0,>=1.0->aiohttp!=4.0.0a0,!=4.0.0a1->fsspec[http]>=2022.5.0->pytorch-lightning) (3.7)\n",
      "Downloading pytorch_lightning-2.4.0-py3-none-any.whl (815 kB)\n",
      "   ---------------------------------------- 0.0/815.2 kB ? eta -:--:--\n",
      "   - ------------------------------------- 41.0/815.2 kB 960.0 kB/s eta 0:00:01\n",
      "   ----- ---------------------------------- 112.6/815.2 kB 1.3 MB/s eta 0:00:01\n",
      "   ------------- -------------------------- 276.5/815.2 kB 2.1 MB/s eta 0:00:01\n",
      "   ---------------- ----------------------- 337.9/815.2 kB 1.9 MB/s eta 0:00:01\n",
      "   ----------------------- ---------------- 471.0/815.2 kB 2.1 MB/s eta 0:00:01\n",
      "   ----------------------------- ---------- 604.2/815.2 kB 2.2 MB/s eta 0:00:01\n",
      "   ------------------------------------ --- 737.3/815.2 kB 2.3 MB/s eta 0:00:01\n",
      "   ---------------------------------------- 815.2/815.2 kB 2.2 MB/s eta 0:00:00\n",
      "Downloading lightning_utilities-0.11.8-py3-none-any.whl (26 kB)\n",
      "Downloading torchmetrics-1.6.0-py3-none-any.whl (926 kB)\n",
      "   ---------------------------------------- 0.0/926.4 kB ? eta -:--:--\n",
      "   ----- ---------------------------------- 122.9/926.4 kB 3.5 MB/s eta 0:00:01\n",
      "   ------------ --------------------------- 286.7/926.4 kB 3.5 MB/s eta 0:00:01\n",
      "   ------------------- -------------------- 450.6/926.4 kB 3.5 MB/s eta 0:00:01\n",
      "   ------------------------- -------------- 583.7/926.4 kB 3.3 MB/s eta 0:00:01\n",
      "   -------------------------------- ------- 747.5/926.4 kB 3.4 MB/s eta 0:00:01\n",
      "   -------------------------------------- - 901.1/926.4 kB 3.3 MB/s eta 0:00:01\n",
      "   ---------------------------------------- 926.4/926.4 kB 3.1 MB/s eta 0:00:00\n",
      "Installing collected packages: lightning-utilities, torchmetrics, pytorch-lightning\n",
      "Successfully installed lightning-utilities-0.11.8 pytorch-lightning-2.4.0 torchmetrics-1.6.0\n",
      "Note: you may need to restart the kernel to use updated packages.\n"
     ]
    }
   ],
   "source": [
    "pip install pytorch-lightning"
   ]
  },
  {
   "cell_type": "code",
   "execution_count": 2,
   "id": "541cf383",
   "metadata": {},
   "outputs": [],
   "source": [
    "import os\n",
    "import pickle\n",
    "import time\n",
    "import argparse\n",
    "\n",
    "import numpy as np\n",
    "import pandas as pd\n",
    "\n",
    "from hyperopt import fmin, tpe, hp, Trials, STATUS_OK\n",
    "\n",
    "from statsforecast import StatsForecast\n",
    "from statsforecast.models import (\n",
    "    Naive,\n",
    "    SeasonalNaive, \n",
    "    AutoARIMA \n",
    ")\n",
    "\n",
    "from src.losses.numpy import mae, mse\n",
    "from src.experiments.utils import hyperopt_tunning\n",
    "\n",
    "import matplotlib.pyplot as plt"
   ]
  },
  {
   "cell_type": "code",
   "execution_count": 3,
   "id": "101fadec",
   "metadata": {},
   "outputs": [],
   "source": [
    "def main(args):\n",
    "\n",
    "    #----------------------------------------------- Load Data -----------------------------------------------#\n",
    "    Y_df = pd.read_csv(f'ETTm2.csv')\n",
    "\n",
    "    X_df = None\n",
    "    S_df = None\n",
    "\n",
    "    print('Y_df: ', Y_df.head())\n",
    "    if args.dataset == 'ETTm2':\n",
    "        len_val = 11520\n",
    "        len_test = 11520\n",
    "    if args.dataset == 'Exchange':\n",
    "        len_val = 760\n",
    "        len_test = 1517\n",
    "    if args.dataset == 'ECL':\n",
    "        len_val = 2632\n",
    "        len_test = 5260\n",
    "    if args.dataset == 'traffic':\n",
    "        len_val = 1756\n",
    "        len_test = 3508\n",
    "    if args.dataset == 'weather':\n",
    "        len_val = 5270\n",
    "        len_test = 10539\n",
    "    if args.dataset == 'ili':\n",
    "        len_val = 97\n",
    "        len_test = 193\n",
    "\n",
    "    #---------------------------------------------- Directories ----------------------------------------------#\n",
    "    output_dir = f'./results/multivariate/{args.dataset}_{args.horizon}/NHITS/'\n",
    "\n",
    "    os.makedirs(output_dir, exist_ok = True)\n",
    "    assert os.path.exists(output_dir), f'Output dir {output_dir} does not exist'\n",
    "    \n",
    "    hyperopt_file = output_dir + f'hyperopt_{args.experiment_id}.p'    \n",
    "    \n",
    "    n_series = len(Y_df.unique_id.unique())\n",
    "    Y_df['ds'] = pd.to_datetime(Y_df['ds'])\n",
    "    # Test set predictions\n",
    "    model = StatsForecast(df=Y_df[['unique_id', 'ds', 'y']].set_index('unique_id'),\n",
    "                          models=[AutoARIMA(season_length=args.seasonality)],\n",
    "                          freq=args.freq, \n",
    "                          n_jobs=-1)\n",
    "    forecasts = model.cross_validation(h=args.horizon, \n",
    "                                       n_windows=None, step_size=1,\n",
    "                                       test_size=len_test)\n",
    "    forecasts['unique_id'] = forecasts.index\n",
    "    forecasts = forecasts.reset_index(drop=True)\n",
    "    \n",
    "    y_true = forecasts['y'].values\n",
    "    # y_hat  = forecasts[f'seasonal_naive_season_length-{args.seasonality}'].values\n",
    "    y_hat  = forecasts[f'SeasonalNaive'].values\n",
    "\n",
    "    y_true = y_true.reshape(n_series, -1, args.horizon)\n",
    "    y_hat  = y_hat.reshape(n_series, -1, args.horizon)\n",
    "    \n",
    "    #return forecasts, y_true, y_hat\n",
    "    losses= {'dataset': args.dataset,\n",
    "             'horizon': args.horizon,\n",
    "             'mse': mse(y=y_true, y_hat=y_hat),\n",
    "             'mae': mae(y=y_true, y_hat=y_hat)}\n",
    "    \n",
    "    #with open(hyperopt_file, \"wb\") as f:\n",
    "    #    pickle.dump(trials, f)    \n",
    "    \n",
    "    return losses\n",
    "    \n",
    "    #pickle.dump(trials, f)\n",
    "\n",
    "# source ~/anaconda3/etc/profile.d/conda.sh\n",
    "# conda activate nixtla\n",
    "# CUDA_VISIBLE_DEVICES=0 python nhits_multivariate.py --hyperopt_max_evals 10 --experiment_id \"eval_train\""
   ]
  },
  {
   "cell_type": "code",
   "execution_count": null,
   "id": "16180e29",
   "metadata": {},
   "outputs": [
    {
     "name": "stdout",
     "output_type": "stream",
     "text": [
      "-------------------------------------------------- ETTm2 --------------------------------------------------\n",
      "-------------------------------------------------- 96 --------------------------------------------------\n",
      "Y_df:                      ds unique_id         y\n",
      "0  2016-07-01 00:00:00      HUFL -0.041413\n",
      "1  2016-07-01 00:00:00      HULL  0.040104\n",
      "2  2016-07-01 00:00:00      MUFL -0.599211\n",
      "3  2016-07-01 00:00:00      MULL -0.393536\n",
      "4  2016-07-01 00:00:00      LUFL  0.695804\n"
     ]
    },
    {
     "name": "stderr",
     "output_type": "stream",
     "text": [
      "C:\\Users\\bichl\\AppData\\Roaming\\Python\\Python312\\site-packages\\statsforecast\\core.py:476: FutureWarning: The `df` argument of the StatsForecast constructor as well as reusing stored dfs from other methods is deprecated and will raise an error in a future version. Please provide the `df` argument to the corresponding method instead, e.g. fit/forecast.\n",
      "  warnings.warn(\n",
      "C:\\Users\\bichl\\AppData\\Roaming\\Python\\Python312\\site-packages\\statsforecast\\core.py:628: FutureWarning: Passing unique_id as the index is deprecated. Please provide it as a column instead.\n",
      "  warnings.warn(\n",
      "C:\\Users\\bichl\\AppData\\Roaming\\Python\\Python312\\site-packages\\statsforecast\\core.py:476: FutureWarning: The `df` argument of the StatsForecast constructor as well as reusing stored dfs from other methods is deprecated and will raise an error in a future version. Please provide the `df` argument to the corresponding method instead, e.g. fit/forecast.\n",
      "  warnings.warn(\n"
     ]
    }
   ],
   "source": [
    "args=pd.Series(dict(experiment_id='seasonal_naive'))\n",
    "if __name__ == '__main__':\n",
    "    \n",
    "    horizons = [96, 192, 336, 720]\n",
    "    ILI_horizons = [24, 36, 48, 60]\n",
    "    datasets = ['ETTm2']\n",
    "    seasonalities = [96, 7, 144, 52, 96, 24]\n",
    "    freqs = ['15min', 'D', '10min', 'W', '15min', 'H']\n",
    "    \n",
    "    #datasets = ['ili']\n",
    "    #seasonalities = [52]\n",
    "    #freqs = ['W']\n",
    "    \n",
    "    losses_list = []\n",
    "    for dataset, seasonality, freq in\\\n",
    "            zip(datasets, seasonalities, freqs):\n",
    "        # Horizon\n",
    "        if dataset == 'ili':\n",
    "            horizons_dataset = ILI_horizons\n",
    "        else:\n",
    "            horizons_dataset = horizons\n",
    "        for horizon in horizons_dataset:\n",
    "            print(50*'-', dataset, 50*'-')\n",
    "            print(50*'-', horizon, 50*'-')\n",
    "            start = time.time()\n",
    "            args.dataset = dataset\n",
    "            args.horizon = horizon\n",
    "            args.seasonality = seasonality\n",
    "            args.freq = freq\n",
    "            losses = main(args)\n",
    "            losses_list.append(losses)\n",
    "            print('Time: ', time.time() - start)\n"
   ]
  },
  {
   "cell_type": "code",
   "execution_count": null,
   "id": "a2a6588e",
   "metadata": {},
   "outputs": [],
   "source": [
    "eval_df = pd.DataFrame(losses_list)"
   ]
  },
  {
   "cell_type": "code",
   "execution_count": null,
   "id": "f496d7de",
   "metadata": {},
   "outputs": [],
   "source": [
    "eval_df"
   ]
  },
  {
   "cell_type": "code",
   "execution_count": null,
   "id": "ade7934c",
   "metadata": {},
   "outputs": [],
   "source": []
  },
  {
   "cell_type": "code",
   "execution_count": null,
   "id": "46163796",
   "metadata": {},
   "outputs": [],
   "source": []
  }
 ],
 "metadata": {
  "kernelspec": {
   "display_name": "Python 3 (ipykernel)",
   "language": "python",
   "name": "python3"
  },
  "language_info": {
   "codemirror_mode": {
    "name": "ipython",
    "version": 3
   },
   "file_extension": ".py",
   "mimetype": "text/x-python",
   "name": "python",
   "nbconvert_exporter": "python",
   "pygments_lexer": "ipython3",
   "version": "3.12.3"
  }
 },
 "nbformat": 4,
 "nbformat_minor": 5
}
